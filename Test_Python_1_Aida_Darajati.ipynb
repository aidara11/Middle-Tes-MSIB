{
  "nbformat": 4,
  "nbformat_minor": 5,
  "metadata": {
    "kernelspec": {
      "display_name": "Python 3",
      "language": "python",
      "name": "python3"
    },
    "language_info": {
      "codemirror_mode": {
        "name": "ipython",
        "version": 3
      },
      "file_extension": ".py",
      "mimetype": "text/x-python",
      "name": "python",
      "nbconvert_exporter": "python",
      "pygments_lexer": "ipython3",
      "version": "3.7.0"
    },
    "colab": {
      "provenance": []
    }
  },
  "cells": [
    {
      "cell_type": "markdown",
      "metadata": {
        "id": "87919d68"
      },
      "source": [
        "### Python 1 : Who is in the third place?"
      ],
      "id": "87919d68"
    },
    {
      "cell_type": "markdown",
      "metadata": {
        "id": "c061c30a"
      },
      "source": [
        "### Task"
      ],
      "id": "c061c30a"
    },
    {
      "cell_type": "markdown",
      "metadata": {
        "id": "66fcf833"
      },
      "source": [
        "Create a function whose name is ```third_place``` that does the following:\n",
        "\n",
        "Given a list of test score and a list of participants name. The desired output would be the name of the participant who gets the 3rd best score. The rule of determining the order of the best score is as follows:\n",
        "- Higher score is better\n",
        "- In case of multiple participants having the same test score, they can occupy the same ranking value. For example, if 2 participants scored 100, then both of them occupy the first place.\n",
        "\n",
        "The first input of the function is the name list, and the second input to the function is the score list."
      ],
      "id": "66fcf833"
    },
    {
      "cell_type": "markdown",
      "metadata": {
        "id": "aee24374"
      },
      "source": [
        "### Example 1:\n",
        "\n",
        "**Input**:\n",
        "- names = [Andi, Budi, Charlie, Dilan, Echa]\n",
        "- score = [80, 90, 95, 100, 85]\n",
        "\n",
        "This means, Andi gets 80, Budi gets 90, Charlie gets 95, Dilan gets 100, and Echa gets 85. The first best score is 100, and Dilan gets it. The second best score is 95, and Charlie gets it. The third best score is 90, and Budi gets it. So, our output should be Budi.\n",
        "\n",
        "**Output**: 'The third winner: Budi'.\n",
        "\n",
        "When we run ```third_place(names, score)```, the output will be 'The third winner: Budi'."
      ],
      "id": "aee24374"
    },
    {
      "cell_type": "markdown",
      "metadata": {
        "id": "e85af386"
      },
      "source": [
        "### Example 2:\n",
        "\n",
        "**Input**:\n",
        "- names = [Andi, Budi, Charlie, Dilan, Echa]\n",
        "- score = [80, 80, 80, 100, 90]\n",
        "\n",
        "This means, Andi, Budi, and Charlie gets 80, Dilan gets 100, and Echa gets 90. The third best score is 80, and our output should list ALL of the participants who get 80.\n",
        "\n",
        "**Output**: 'The third winner: Andi, Budi, Charlie'.\n",
        "\n",
        "When we run ```third_place(names, score)```, the output will be 'The third winner: Andi, Budi, Charlie'."
      ],
      "id": "e85af386"
    },
    {
      "cell_type": "markdown",
      "metadata": {
        "id": "bbeb3f41"
      },
      "source": [
        "### Example 3:\n",
        "\n",
        "**Input**:\n",
        "- names = [Andi, Budi, Charlie, Dilan, Echa, Fanya]\n",
        "- score = [80, 90, 90, 100, 100, 80]\n",
        "\n",
        "The first best score (first winner) is 100 - Dilan and Echa shared this position. The second best score (second winner) is 90 - Budi and Charlie shared this position. The third best score (third winner) is 80, and it is shared by Andi and Fanya. So, our output should be Andi and Fanya.\n",
        "\n",
        "**Output**: 'The third winner: Andi, Fanya'."
      ],
      "id": "bbeb3f41"
    },
    {
      "cell_type": "markdown",
      "metadata": {
        "id": "8306d027"
      },
      "source": [
        "### Space for Work"
      ],
      "id": "8306d027"
    },
    {
      "cell_type": "code",
      "source": [
        "def third_place(names, score):\n",
        "    \"\"\"\n",
        "    Untuk mencari third place atau score ketiga, pertama-tama names & score disimpan di dalam dictionary agar mudah.\n",
        "    Dimana key nya adalah scores dan value nya adalah names.\n",
        "    Lalu di cek, apakah ada nilai yang sama atau tidak. Jika ya, maka simpan value dalam key yang sama.\n",
        "    Setelah itu hanya perlu mengurutkan score nya, dan pilih indeks ke-tiga (2).\n",
        "    Terakhir tinggal format output sesuai contoh.\n",
        "    \"\"\"\n",
        "    # Buat dictionary untuk menyimpan score dan nama-nama yang sesuai\n",
        "    score_dict = {}\n",
        "    for i, s in enumerate(score):          # enumerate untuk mendapatkan indeks (i) dan score (s)\n",
        "        if s in score_dict:                # Jika ada yang score yang sama, simpan/masukkan nama (value) dalam 1 key (score) yang sama\n",
        "            score_dict[s].append(names[i])\n",
        "        else:\n",
        "            score_dict[s] = [names[i]]     # Jika tidak, simpan key (score) baru lalu simpan nama\n",
        "\n",
        "    # Urutkan score secara descending\n",
        "    sorted_scores = sorted(score_dict.keys(), reverse=True)\n",
        "\n",
        "    # Cari score ketiga\n",
        "    third_score = sorted_scores[2]\n",
        "\n",
        "    # Ambil nama-nama yang sesuai dengan score ketiga\n",
        "    third_place_names = score_dict[third_score]\n",
        "\n",
        "    # Format output sesuai contoh\n",
        "    output = 'The third winner: ' + ', '.join(third_place_names)\n",
        "    return output"
      ],
      "metadata": {
        "id": "fTzdu_MnjMIP"
      },
      "id": "fTzdu_MnjMIP",
      "execution_count": null,
      "outputs": []
    },
    {
      "cell_type": "code",
      "source": [
        "# Test dengan kasus contoh 1, 2, & 3\n",
        "names1 = ['Andi', 'Budi', 'Charlie', 'Dilan', 'Echa']\n",
        "score1 = [80, 90, 95, 100, 85]\n",
        "print(third_place(names1, score1))  # Output: 'The third winner: Budi'\n",
        "print(\"\\n\")\n",
        "\n",
        "names2 = ['Andi', 'Budi', 'Charlie', 'Dilan', 'Echa']\n",
        "score2 = [80, 80, 80, 100, 90]\n",
        "print(third_place(names2, score2))  # Output: 'The third winner: Andi, Budi, Charlie'\n",
        "print(\"\\n\")\n",
        "\n",
        "names3 = ['Andi', 'Budi', 'Charlie', 'Dilan', 'Echa', 'Fanya']\n",
        "score3 = [80, 90, 90, 100, 100, 80]\n",
        "print(third_place(names3, score3))  # Output: 'The third winner: Andi, Fanya'\n",
        "print(\"\\n\")"
      ],
      "metadata": {
        "colab": {
          "base_uri": "https://localhost:8080/"
        },
        "id": "evFoBb4OjQNC",
        "outputId": "d714ccb4-f1b9-4b5e-ab92-627ad98df344"
      },
      "id": "evFoBb4OjQNC",
      "execution_count": null,
      "outputs": [
        {
          "output_type": "stream",
          "name": "stdout",
          "text": [
            "The third winner: Budi\n",
            "\n",
            "\n",
            "The third winner: Andi, Budi, Charlie\n",
            "\n",
            "\n",
            "The third winner: Andi, Fanya\n",
            "\n",
            "\n"
          ]
        }
      ]
    }
  ]
}